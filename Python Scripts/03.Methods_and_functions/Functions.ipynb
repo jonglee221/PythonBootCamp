{
 "cells": [
  {
   "cell_type": "code",
   "execution_count": 1,
   "id": "9f7821aa-34d4-4ab6-98c9-6c4c78e94b45",
   "metadata": {},
   "outputs": [],
   "source": [
    "#Functions - allow us to create blocks of code that can be easily executed many times, without needing to constantly rewrite the entire block of code."
   ]
  },
  {
   "cell_type": "code",
   "execution_count": 2,
   "id": "7c8ac289-a24e-4e89-825d-a5f326de6916",
   "metadata": {},
   "outputs": [],
   "source": [
    "#def Keyword"
   ]
  },
  {
   "cell_type": "code",
   "execution_count": 3,
   "id": "48cfc724-13ec-414c-b1c1-a5bf87370a59",
   "metadata": {},
   "outputs": [],
   "source": [
    "#def name_of_function():\n",
    "#   '''\n",
    "#   Docstring explains function\n",
    "#   '''\n",
    "#  print(\"Hello\")"
   ]
  },
  {
   "cell_type": "code",
   "execution_count": 4,
   "id": "292099db-d4bf-4f3b-9653-f92c6d0b7ad0",
   "metadata": {},
   "outputs": [],
   "source": [
    "#def name_of_function(name):\n",
    "#   '''\n",
    "#   Docstring explains function\n",
    "#   '''\n",
    "#  print(\"Hello\"+name)"
   ]
  },
  {
   "cell_type": "code",
   "execution_count": 5,
   "id": "cc0b6b35-a93d-468c-90ed-4032e9bbdd04",
   "metadata": {},
   "outputs": [],
   "source": [
    "#return keyword for functions instead of print"
   ]
  },
  {
   "cell_type": "code",
   "execution_count": 7,
   "id": "f4d5790c-b5ec-427d-889c-c853c4b24e75",
   "metadata": {},
   "outputs": [],
   "source": [
    "#def add_function(num1,num2):\n",
    "#    return num1+num2 #no () for return\n",
    "#>>result = add_fcuntion(1,2)\n",
    "#>>\n",
    "#>>print(result)\n",
    "#>>"
   ]
  },
  {
   "cell_type": "code",
   "execution_count": 8,
   "id": "6d632db7-6d12-475f-aa6b-94dc2d7811fa",
   "metadata": {},
   "outputs": [],
   "source": [
    "def say_hello():\n",
    "    print(\"hello\")"
   ]
  },
  {
   "cell_type": "code",
   "execution_count": 9,
   "id": "efac0718-dfba-4483-95dd-fbe118bbcc1a",
   "metadata": {},
   "outputs": [
    {
     "name": "stdout",
     "output_type": "stream",
     "text": [
      "hello\n"
     ]
    }
   ],
   "source": [
    "say_hello() #() to call function"
   ]
  },
  {
   "cell_type": "code",
   "execution_count": 11,
   "id": "8b98a446-7b26-44cb-b295-5976018bd2eb",
   "metadata": {},
   "outputs": [
    {
     "data": {
      "text/plain": [
       "<function __main__.say_hello()>"
      ]
     },
     "execution_count": 11,
     "metadata": {},
     "output_type": "execute_result"
    }
   ],
   "source": [
    "say_hello"
   ]
  },
  {
   "cell_type": "code",
   "execution_count": 12,
   "id": "3c76f6cb-ef9a-4a4c-a9e8-ff1fc41bf118",
   "metadata": {},
   "outputs": [],
   "source": [
    "def say_hello(name):\n",
    "    print(f'Hello {name}')"
   ]
  },
  {
   "cell_type": "code",
   "execution_count": 13,
   "id": "ffadd870-7a69-4314-b0cc-78ae83dbfd2b",
   "metadata": {},
   "outputs": [
    {
     "name": "stdout",
     "output_type": "stream",
     "text": [
      "Hello Jong\n"
     ]
    }
   ],
   "source": [
    "say_hello('Jong')"
   ]
  },
  {
   "cell_type": "code",
   "execution_count": 14,
   "id": "c4631249-e7cb-486a-89df-48a72728d937",
   "metadata": {},
   "outputs": [],
   "source": [
    "def say_hello(name='Default'):\n",
    "    print(f'Hello {name}')"
   ]
  },
  {
   "cell_type": "code",
   "execution_count": 15,
   "id": "9dff86cc-dc33-4033-bd96-32b2bb2adad0",
   "metadata": {},
   "outputs": [
    {
     "name": "stdout",
     "output_type": "stream",
     "text": [
      "Hello Default\n"
     ]
    }
   ],
   "source": [
    "say_hello() #add the = if left blank, add a default output"
   ]
  },
  {
   "cell_type": "code",
   "execution_count": 16,
   "id": "a1685108-451d-471d-beb6-af1460cfa8fa",
   "metadata": {},
   "outputs": [],
   "source": [
    "def add_num(num1,num2):\n",
    "    return num1+num2"
   ]
  },
  {
   "cell_type": "code",
   "execution_count": 17,
   "id": "56e9df8c-8d63-446a-a724-3030ffdef64e",
   "metadata": {},
   "outputs": [],
   "source": [
    "result = add_num(10,20)"
   ]
  },
  {
   "cell_type": "code",
   "execution_count": 22,
   "id": "0cb5912e-c97a-4c9f-b2df-d0fc7071edae",
   "metadata": {},
   "outputs": [
    {
     "data": {
      "text/plain": [
       "30"
      ]
     },
     "execution_count": 22,
     "metadata": {},
     "output_type": "execute_result"
    }
   ],
   "source": [
    "result #return vs print, can turn return to variable"
   ]
  },
  {
   "cell_type": "code",
   "execution_count": 23,
   "id": "fecfba01-5765-47b7-8720-6aa28ee60d61",
   "metadata": {},
   "outputs": [],
   "source": [
    "def print_result(a,b):\n",
    "    print(a+b)"
   ]
  },
  {
   "cell_type": "code",
   "execution_count": 24,
   "id": "630f0fed-074e-4240-962c-a4bea552f6a4",
   "metadata": {},
   "outputs": [],
   "source": [
    "def return_result(a,b):\n",
    "    return a+b"
   ]
  },
  {
   "cell_type": "code",
   "execution_count": 25,
   "id": "09ed79ef-3701-42ce-a5d4-7d012e6f6022",
   "metadata": {},
   "outputs": [
    {
     "name": "stdout",
     "output_type": "stream",
     "text": [
      "30\n"
     ]
    }
   ],
   "source": [
    "result = print_result(10,20)"
   ]
  },
  {
   "cell_type": "code",
   "execution_count": 27,
   "id": "1287173b-9a45-440e-a306-e3a1c0fb21c6",
   "metadata": {},
   "outputs": [
    {
     "data": {
      "text/plain": [
       "NoneType"
      ]
     },
     "execution_count": 27,
     "metadata": {},
     "output_type": "execute_result"
    }
   ],
   "source": [
    "type(result)"
   ]
  },
  {
   "cell_type": "code",
   "execution_count": 29,
   "id": "7e8f296c-9457-4da9-98df-657fb198d07d",
   "metadata": {},
   "outputs": [],
   "source": [
    "result = return_result(10,20)"
   ]
  },
  {
   "cell_type": "code",
   "execution_count": 30,
   "id": "a93dec58-5632-43ef-830a-0feb36c0946e",
   "metadata": {},
   "outputs": [
    {
     "data": {
      "text/plain": [
       "30"
      ]
     },
     "execution_count": 30,
     "metadata": {},
     "output_type": "execute_result"
    }
   ],
   "source": [
    "result"
   ]
  },
  {
   "cell_type": "code",
   "execution_count": 31,
   "id": "de5ddd30-cede-4fbc-9904-cb220d2145b5",
   "metadata": {},
   "outputs": [
    {
     "data": {
      "text/plain": [
       "int"
      ]
     },
     "execution_count": 31,
     "metadata": {},
     "output_type": "execute_result"
    }
   ],
   "source": [
    "type(result)"
   ]
  },
  {
   "cell_type": "code",
   "execution_count": 32,
   "id": "b616b4ef-123b-43b0-bc81-d4848ad83ae9",
   "metadata": {},
   "outputs": [],
   "source": [
    "def myfunc(a,b):\n",
    "    print(a+b)\n",
    "    return a+b"
   ]
  },
  {
   "cell_type": "code",
   "execution_count": 34,
   "id": "a9d9f4db-128c-47dd-9712-649db6ab48b2",
   "metadata": {},
   "outputs": [
    {
     "name": "stdout",
     "output_type": "stream",
     "text": [
      "30\n"
     ]
    }
   ],
   "source": [
    "result = myfunc(10,20)"
   ]
  },
  {
   "cell_type": "code",
   "execution_count": 35,
   "id": "2e6c9ac4-65fc-4fde-abaa-8ebc95658785",
   "metadata": {},
   "outputs": [],
   "source": [
    "def sum_numbers(num1,num2):\n",
    "    return num1+num2"
   ]
  },
  {
   "cell_type": "code",
   "execution_count": 36,
   "id": "1a9334e2-6107-4629-8776-9caaba87bf61",
   "metadata": {},
   "outputs": [
    {
     "data": {
      "text/plain": [
       "30"
      ]
     },
     "execution_count": 36,
     "metadata": {},
     "output_type": "execute_result"
    }
   ],
   "source": [
    "sum_numbers(10,20)"
   ]
  },
  {
   "cell_type": "code",
   "execution_count": 37,
   "id": "1e635565-255c-40df-af68-463094dfbf9e",
   "metadata": {},
   "outputs": [
    {
     "data": {
      "text/plain": [
       "'1020'"
      ]
     },
     "execution_count": 37,
     "metadata": {},
     "output_type": "execute_result"
    }
   ],
   "source": [
    "sum_numbers('10','20')"
   ]
  },
  {
   "cell_type": "code",
   "execution_count": null,
   "id": "540fe913-ee7f-4f8f-96f9-cc3d43b099dc",
   "metadata": {},
   "outputs": [],
   "source": []
  }
 ],
 "metadata": {
  "kernelspec": {
   "display_name": "Python 3 (ipykernel)",
   "language": "python",
   "name": "python3"
  },
  "language_info": {
   "codemirror_mode": {
    "name": "ipython",
    "version": 3
   },
   "file_extension": ".py",
   "mimetype": "text/x-python",
   "name": "python",
   "nbconvert_exporter": "python",
   "pygments_lexer": "ipython3",
   "version": "3.9.7"
  }
 },
 "nbformat": 4,
 "nbformat_minor": 5
}
