{
 "cells": [
  {
   "cell_type": "code",
   "execution_count": 1,
   "id": "9bd75f8b-30f0-44ff-841f-6ec5a8ab0638",
   "metadata": {},
   "outputs": [],
   "source": [
    "#Functions with Logic"
   ]
  },
  {
   "cell_type": "code",
   "execution_count": 2,
   "id": "0a8f73ec-51ec-4849-9d4c-e441fbeaccca",
   "metadata": {},
   "outputs": [
    {
     "data": {
      "text/plain": [
       "0"
      ]
     },
     "execution_count": 2,
     "metadata": {},
     "output_type": "execute_result"
    }
   ],
   "source": [
    "2 % 2"
   ]
  },
  {
   "cell_type": "code",
   "execution_count": 3,
   "id": "2cf40bfe-8fc9-4f1e-bd8e-840fcdb9d767",
   "metadata": {},
   "outputs": [
    {
     "data": {
      "text/plain": [
       "1"
      ]
     },
     "execution_count": 3,
     "metadata": {},
     "output_type": "execute_result"
    }
   ],
   "source": [
    "3%2"
   ]
  },
  {
   "cell_type": "code",
   "execution_count": 4,
   "id": "05537b8e-cb19-4a1b-a725-68d4817758a0",
   "metadata": {},
   "outputs": [
    {
     "data": {
      "text/plain": [
       "1"
      ]
     },
     "execution_count": 4,
     "metadata": {},
     "output_type": "execute_result"
    }
   ],
   "source": [
    "41%40"
   ]
  },
  {
   "cell_type": "code",
   "execution_count": 5,
   "id": "7f994e57-3504-4765-a4a1-60fc362c0cac",
   "metadata": {},
   "outputs": [
    {
     "data": {
      "text/plain": [
       "2"
      ]
     },
     "execution_count": 5,
     "metadata": {},
     "output_type": "execute_result"
    }
   ],
   "source": [
    "42%40"
   ]
  },
  {
   "cell_type": "code",
   "execution_count": 6,
   "id": "df96b9e2-bcb0-46f3-8d45-dbc5e90a94d0",
   "metadata": {},
   "outputs": [
    {
     "data": {
      "text/plain": [
       "3"
      ]
     },
     "execution_count": 6,
     "metadata": {},
     "output_type": "execute_result"
    }
   ],
   "source": [
    "43%40"
   ]
  },
  {
   "cell_type": "code",
   "execution_count": 7,
   "id": "4b6cb934-273e-4f7f-b4bb-a7e18787e339",
   "metadata": {},
   "outputs": [
    {
     "data": {
      "text/plain": [
       "0"
      ]
     },
     "execution_count": 7,
     "metadata": {},
     "output_type": "execute_result"
    }
   ],
   "source": [
    "20%2"
   ]
  },
  {
   "cell_type": "code",
   "execution_count": 8,
   "id": "dc48b0e3-f20c-417b-abf0-7359e3032b61",
   "metadata": {},
   "outputs": [
    {
     "data": {
      "text/plain": [
       "True"
      ]
     },
     "execution_count": 8,
     "metadata": {},
     "output_type": "execute_result"
    }
   ],
   "source": [
    "20%2 == 0"
   ]
  },
  {
   "cell_type": "code",
   "execution_count": 9,
   "id": "bb0cc390-f1aa-4950-a57a-c37a1feef8b1",
   "metadata": {},
   "outputs": [
    {
     "data": {
      "text/plain": [
       "False"
      ]
     },
     "execution_count": 9,
     "metadata": {},
     "output_type": "execute_result"
    }
   ],
   "source": [
    "21%2 == 0"
   ]
  },
  {
   "cell_type": "code",
   "execution_count": 10,
   "id": "6524f155-a9ee-42a0-a125-2be093dd4555",
   "metadata": {},
   "outputs": [],
   "source": [
    "def even_check(number):\n",
    "    result = number % 2 == 0\n",
    "    return result"
   ]
  },
  {
   "cell_type": "code",
   "execution_count": 11,
   "id": "6c2aeed0-a160-4eec-bb53-c44b42772da6",
   "metadata": {},
   "outputs": [
    {
     "data": {
      "text/plain": [
       "True"
      ]
     },
     "execution_count": 11,
     "metadata": {},
     "output_type": "execute_result"
    }
   ],
   "source": [
    "even_check(20)"
   ]
  },
  {
   "cell_type": "code",
   "execution_count": 12,
   "id": "0fe28614-3297-478f-9454-97e45c7ce86e",
   "metadata": {},
   "outputs": [],
   "source": [
    "def even_check(number):\n",
    "    return number %2==0"
   ]
  },
  {
   "cell_type": "code",
   "execution_count": 13,
   "id": "cbd39f2b-b3d2-4c79-a857-ffad00f63dd0",
   "metadata": {},
   "outputs": [
    {
     "data": {
      "text/plain": [
       "True"
      ]
     },
     "execution_count": 13,
     "metadata": {},
     "output_type": "execute_result"
    }
   ],
   "source": [
    "even_check(20)"
   ]
  },
  {
   "cell_type": "code",
   "execution_count": 14,
   "id": "78b36a46-cb81-457a-915d-d2c9d4069654",
   "metadata": {},
   "outputs": [],
   "source": [
    "#Return true if any number is even inside a list"
   ]
  },
  {
   "cell_type": "code",
   "execution_count": 16,
   "id": "248181c4-9eec-49f9-baac-273b20e0a0b5",
   "metadata": {},
   "outputs": [],
   "source": [
    "def check_even_list(num_list):\n",
    "    for number in num_list:\n",
    "        if number%2==0:\n",
    "            return True\n",
    "        else:\n",
    "            pass"
   ]
  },
  {
   "cell_type": "code",
   "execution_count": 17,
   "id": "db35203f-4165-47a0-be4f-a77c13a14c23",
   "metadata": {},
   "outputs": [],
   "source": [
    "check_even_list([1,5,3])"
   ]
  },
  {
   "cell_type": "code",
   "execution_count": 18,
   "id": "485c3987-aa0e-437d-b495-41ad718c1cc9",
   "metadata": {},
   "outputs": [
    {
     "data": {
      "text/plain": [
       "True"
      ]
     },
     "execution_count": 18,
     "metadata": {},
     "output_type": "execute_result"
    }
   ],
   "source": [
    "check_even_list([2,5,3])"
   ]
  },
  {
   "cell_type": "code",
   "execution_count": 19,
   "id": "636ab991-b8c1-4e05-959f-1e827b20fbdf",
   "metadata": {},
   "outputs": [
    {
     "data": {
      "text/plain": [
       "True"
      ]
     },
     "execution_count": 19,
     "metadata": {},
     "output_type": "execute_result"
    }
   ],
   "source": [
    "check_even_list([1,5,2])"
   ]
  },
  {
   "cell_type": "code",
   "execution_count": 20,
   "id": "bcc715d5-9e69-447f-bbe7-024261240c1a",
   "metadata": {},
   "outputs": [],
   "source": [
    "def check_even_list(num_list):\n",
    "    for number in num_list:\n",
    "        if number%2==0:\n",
    "            return True\n",
    "        else:\n",
    "            pass\n",
    "        \n",
    "    return False"
   ]
  },
  {
   "cell_type": "code",
   "execution_count": 21,
   "id": "df0b43c8-01b6-4a20-9d34-14b749b5e66a",
   "metadata": {},
   "outputs": [
    {
     "data": {
      "text/plain": [
       "False"
      ]
     },
     "execution_count": 21,
     "metadata": {},
     "output_type": "execute_result"
    }
   ],
   "source": [
    "check_even_list([1,5,3])"
   ]
  },
  {
   "cell_type": "code",
   "execution_count": 22,
   "id": "146c5165-61e5-4ba0-9def-3bbfdb6e2625",
   "metadata": {},
   "outputs": [
    {
     "data": {
      "text/plain": [
       "True"
      ]
     },
     "execution_count": 22,
     "metadata": {},
     "output_type": "execute_result"
    }
   ],
   "source": [
    "check_even_list([1,5,2])"
   ]
  },
  {
   "cell_type": "code",
   "execution_count": 23,
   "id": "4e48ab3a-aa0e-4495-a81c-3aee2f1c49c5",
   "metadata": {},
   "outputs": [],
   "source": [
    "def check_even_list(num_list):\n",
    "    #return all even numbers in a list\n",
    "    #placeholder variables \n",
    "    even_numbers = []\n",
    "    \n",
    "    for number in num_list:\n",
    "        if number%2==0:\n",
    "            even_numbers.append(number)\n",
    "            \n",
    "        else:\n",
    "            pass\n",
    "        \n",
    "    return even_numbers"
   ]
  },
  {
   "cell_type": "code",
   "execution_count": 24,
   "id": "dd168dd0-21b8-4544-a89b-c846e5ae78e0",
   "metadata": {},
   "outputs": [
    {
     "data": {
      "text/plain": [
       "[2, 4]"
      ]
     },
     "execution_count": 24,
     "metadata": {},
     "output_type": "execute_result"
    }
   ],
   "source": [
    "check_even_list([1,2,3,4,5])"
   ]
  },
  {
   "cell_type": "code",
   "execution_count": 25,
   "id": "1f01b7a0-74f5-49f1-b89c-9308685426df",
   "metadata": {},
   "outputs": [
    {
     "data": {
      "text/plain": [
       "[]"
      ]
     },
     "execution_count": 25,
     "metadata": {},
     "output_type": "execute_result"
    }
   ],
   "source": [
    "check_even_list([1,5,3])"
   ]
  },
  {
   "cell_type": "code",
   "execution_count": null,
   "id": "22bc9595-adb4-46fd-9d8d-3fbe1ab88cd3",
   "metadata": {},
   "outputs": [],
   "source": []
  }
 ],
 "metadata": {
  "kernelspec": {
   "display_name": "Python 3 (ipykernel)",
   "language": "python",
   "name": "python3"
  },
  "language_info": {
   "codemirror_mode": {
    "name": "ipython",
    "version": 3
   },
   "file_extension": ".py",
   "mimetype": "text/x-python",
   "name": "python",
   "nbconvert_exporter": "python",
   "pygments_lexer": "ipython3",
   "version": "3.9.7"
  }
 },
 "nbformat": 4,
 "nbformat_minor": 5
}
