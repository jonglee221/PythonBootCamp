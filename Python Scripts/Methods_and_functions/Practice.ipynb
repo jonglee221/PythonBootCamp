{
 "cells": [
  {
   "cell_type": "code",
   "execution_count": 2,
   "id": "bc20f94c-6b15-495c-8286-6a1d20acf4b5",
   "metadata": {},
   "outputs": [
    {
     "data": {
      "text/plain": [
       "['T', 'i', 'a', 'w', 'l']"
      ]
     },
     "execution_count": 2,
     "metadata": {},
     "output_type": "execute_result"
    }
   ],
   "source": [
    "#print out first letter of each word in sentence\n",
    "word_list = 'This is a word list'\n",
    "[word[0] for word in word_list.split()]"
   ]
  },
  {
   "cell_type": "code",
   "execution_count": 3,
   "id": "374a495c-e0c2-444e-9891-89a6515cc520",
   "metadata": {},
   "outputs": [],
   "source": [
    "st = 'Print only the words that start with s in this sentence'"
   ]
  },
  {
   "cell_type": "code",
   "execution_count": 5,
   "id": "ffb894fe-e9a0-43ee-880c-2833a908bf59",
   "metadata": {},
   "outputs": [
    {
     "name": "stdout",
     "output_type": "stream",
     "text": [
      "start\n",
      "s\n",
      "sentence\n"
     ]
    }
   ],
   "source": [
    "for word in st.split():\n",
    "    if word[0] == 's':\n",
    "        print(word)"
   ]
  },
  {
   "cell_type": "code",
   "execution_count": 8,
   "id": "5ebc472d-e297-42ef-b76d-322e0c5ebc1a",
   "metadata": {},
   "outputs": [
    {
     "data": {
      "text/plain": [
       "[1,\n",
       " 3,\n",
       " 5,\n",
       " 7,\n",
       " 9,\n",
       " 11,\n",
       " 13,\n",
       " 15,\n",
       " 17,\n",
       " 19,\n",
       " 21,\n",
       " 23,\n",
       " 25,\n",
       " 27,\n",
       " 29,\n",
       " 31,\n",
       " 33,\n",
       " 35,\n",
       " 37,\n",
       " 39,\n",
       " 41,\n",
       " 43,\n",
       " 45,\n",
       " 47,\n",
       " 49]"
      ]
     },
     "execution_count": 8,
     "metadata": {},
     "output_type": "execute_result"
    }
   ],
   "source": [
    "[x for x in range(1,50) if x%2!=0]"
   ]
  },
  {
   "cell_type": "code",
   "execution_count": null,
   "id": "b389cd72-fc9a-4920-87b7-bebc3ab0187a",
   "metadata": {},
   "outputs": [],
   "source": []
  }
 ],
 "metadata": {
  "kernelspec": {
   "display_name": "Python 3 (ipykernel)",
   "language": "python",
   "name": "python3"
  },
  "language_info": {
   "codemirror_mode": {
    "name": "ipython",
    "version": 3
   },
   "file_extension": ".py",
   "mimetype": "text/x-python",
   "name": "python",
   "nbconvert_exporter": "python",
   "pygments_lexer": "ipython3",
   "version": "3.9.7"
  }
 },
 "nbformat": 4,
 "nbformat_minor": 5
}
