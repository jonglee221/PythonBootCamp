{
 "cells": [
  {
   "cell_type": "code",
   "execution_count": 1,
   "id": "18e3c14d-4bbb-4a55-a906-42a392f5b5ff",
   "metadata": {},
   "outputs": [
    {
     "data": {
      "text/plain": [
       "100"
      ]
     },
     "execution_count": 1,
     "metadata": {},
     "output_type": "execute_result"
    }
   ],
   "source": [
    "50*2"
   ]
  },
  {
   "cell_type": "code",
   "execution_count": 2,
   "id": "b9754214-cc50-4bbe-8a1b-0e80f78a144e",
   "metadata": {},
   "outputs": [
    {
     "data": {
      "text/plain": [
       "50.0"
      ]
     },
     "execution_count": 2,
     "metadata": {},
     "output_type": "execute_result"
    }
   ],
   "source": [
    "50*2/2"
   ]
  },
  {
   "cell_type": "code",
   "execution_count": 3,
   "id": "fa44efbc-7637-4b5f-93bf-c781554e1459",
   "metadata": {},
   "outputs": [
    {
     "data": {
      "text/plain": [
       "4.0"
      ]
     },
     "execution_count": 3,
     "metadata": {},
     "output_type": "execute_result"
    }
   ],
   "source": [
    "50*2/25"
   ]
  },
  {
   "cell_type": "code",
   "execution_count": 6,
   "id": "45b66682-3d99-4f11-896b-f9732f2dc1f0",
   "metadata": {},
   "outputs": [
    {
     "data": {
      "text/plain": [
       "16.0"
      ]
     },
     "execution_count": 6,
     "metadata": {},
     "output_type": "execute_result"
    }
   ],
   "source": [
    "(50*2/25)**2"
   ]
  },
  {
   "cell_type": "code",
   "execution_count": 8,
   "id": "3639e219-1002-4597-9505-38cef41f8241",
   "metadata": {},
   "outputs": [
    {
     "data": {
      "text/plain": [
       "100.25"
      ]
     },
     "execution_count": 8,
     "metadata": {},
     "output_type": "execute_result"
    }
   ],
   "source": [
    "(50*2/25)**2+86.25-2"
   ]
  },
  {
   "cell_type": "code",
   "execution_count": 9,
   "id": "08b6ac65-0e55-46fd-96dd-05c56491d54e",
   "metadata": {},
   "outputs": [
    {
     "data": {
      "text/plain": [
       "44"
      ]
     },
     "execution_count": 9,
     "metadata": {},
     "output_type": "execute_result"
    }
   ],
   "source": [
    "4*(6+5)"
   ]
  },
  {
   "cell_type": "code",
   "execution_count": 10,
   "id": "a7d00def-35ce-4725-847c-ac9d703dbce7",
   "metadata": {},
   "outputs": [
    {
     "data": {
      "text/plain": [
       "29"
      ]
     },
     "execution_count": 10,
     "metadata": {},
     "output_type": "execute_result"
    }
   ],
   "source": [
    "4*6+5"
   ]
  },
  {
   "cell_type": "code",
   "execution_count": 11,
   "id": "88fb7b3c-d6bb-4f3b-849b-75d867bea5a7",
   "metadata": {},
   "outputs": [
    {
     "data": {
      "text/plain": [
       "34"
      ]
     },
     "execution_count": 11,
     "metadata": {},
     "output_type": "execute_result"
    }
   ],
   "source": [
    "4+6*5"
   ]
  },
  {
   "cell_type": "code",
   "execution_count": 12,
   "id": "eeb51d91-721a-45ad-9c38-a1531b4cbf3e",
   "metadata": {},
   "outputs": [
    {
     "ename": "SyntaxError",
     "evalue": "invalid syntax (2736665856.py, line 1)",
     "output_type": "error",
     "traceback": [
      "\u001b[0;36m  File \u001b[0;32m\"/var/folders/tl/z473p0q54gv3d79r2fyn9mcc0000gn/T/ipykernel_20671/2736665856.py\"\u001b[0;36m, line \u001b[0;32m1\u001b[0m\n\u001b[0;31m    4**\u001b[0m\n\u001b[0m       ^\u001b[0m\n\u001b[0;31mSyntaxError\u001b[0m\u001b[0;31m:\u001b[0m invalid syntax\n"
     ]
    }
   ],
   "source": [
    "4**"
   ]
  },
  {
   "cell_type": "code",
   "execution_count": 13,
   "id": "6c0d7856-da63-4542-a109-ba71a49b1175",
   "metadata": {},
   "outputs": [
    {
     "ename": "SyntaxError",
     "evalue": "invalid syntax (1535183830.py, line 1)",
     "output_type": "error",
     "traceback": [
      "\u001b[0;36m  File \u001b[0;32m\"/var/folders/tl/z473p0q54gv3d79r2fyn9mcc0000gn/T/ipykernel_20671/1535183830.py\"\u001b[0;36m, line \u001b[0;32m1\u001b[0m\n\u001b[0;31m    **4\u001b[0m\n\u001b[0m    ^\u001b[0m\n\u001b[0;31mSyntaxError\u001b[0m\u001b[0;31m:\u001b[0m invalid syntax\n"
     ]
    }
   ],
   "source": [
    "**4"
   ]
  },
  {
   "cell_type": "code",
   "execution_count": 14,
   "id": "e4a9684e-69b8-4dc2-959d-a9e11fcaff1f",
   "metadata": {},
   "outputs": [
    {
     "data": {
      "text/plain": [
       "16"
      ]
     },
     "execution_count": 14,
     "metadata": {},
     "output_type": "execute_result"
    }
   ],
   "source": [
    "4**2"
   ]
  },
  {
   "cell_type": "code",
   "execution_count": 15,
   "id": "3ddfd509-a0d2-48aa-828b-abd7c954d518",
   "metadata": {},
   "outputs": [
    {
     "data": {
      "text/plain": [
       "2"
      ]
     },
     "execution_count": 15,
     "metadata": {},
     "output_type": "execute_result"
    }
   ],
   "source": [
    "4//2"
   ]
  },
  {
   "cell_type": "code",
   "execution_count": 16,
   "id": "0d0bfbc8-9c8d-459d-8ccd-abc752943832",
   "metadata": {},
   "outputs": [
    {
     "data": {
      "text/plain": [
       "8"
      ]
     },
     "execution_count": 16,
     "metadata": {},
     "output_type": "execute_result"
    }
   ],
   "source": [
    "16//2"
   ]
  },
  {
   "cell_type": "code",
   "execution_count": 17,
   "id": "d528d1af-5399-4b7b-a819-ca3ba423fc96",
   "metadata": {},
   "outputs": [
    {
     "ename": "SyntaxError",
     "evalue": "invalid syntax (939309413.py, line 1)",
     "output_type": "error",
     "traceback": [
      "\u001b[0;36m  File \u001b[0;32m\"/var/folders/tl/z473p0q54gv3d79r2fyn9mcc0000gn/T/ipykernel_20671/939309413.py\"\u001b[0;36m, line \u001b[0;32m1\u001b[0m\n\u001b[0;31m    16**/2\u001b[0m\n\u001b[0m        ^\u001b[0m\n\u001b[0;31mSyntaxError\u001b[0m\u001b[0;31m:\u001b[0m invalid syntax\n"
     ]
    }
   ],
   "source": [
    "16**/2"
   ]
  },
  {
   "cell_type": "code",
   "execution_count": 22,
   "id": "650585a4-cdd1-4de1-b65f-ec6decc4c374",
   "metadata": {},
   "outputs": [
    {
     "data": {
      "text/plain": [
       "16"
      ]
     },
     "execution_count": 22,
     "metadata": {},
     "output_type": "execute_result"
    }
   ],
   "source": [
    "4**2"
   ]
  },
  {
   "cell_type": "code",
   "execution_count": 20,
   "id": "ae8e692e-c5d8-42d2-9156-867a4a09d998",
   "metadata": {},
   "outputs": [
    {
     "data": {
      "text/plain": [
       "4.0"
      ]
     },
     "execution_count": 20,
     "metadata": {},
     "output_type": "execute_result"
    }
   ],
   "source": [
    "16**.5"
   ]
  },
  {
   "cell_type": "code",
   "execution_count": 23,
   "id": "2549e6a1-1f60-4be4-afde-e3200c84efb8",
   "metadata": {},
   "outputs": [],
   "source": [
    "s='hello'"
   ]
  },
  {
   "cell_type": "code",
   "execution_count": 24,
   "id": "483d5ca7-951e-42cb-ac7b-ba7d7c9eee64",
   "metadata": {},
   "outputs": [
    {
     "data": {
      "text/plain": [
       "'hello'"
      ]
     },
     "execution_count": 24,
     "metadata": {},
     "output_type": "execute_result"
    }
   ],
   "source": [
    "s"
   ]
  },
  {
   "cell_type": "code",
   "execution_count": 25,
   "id": "95d80b75-5644-495b-be76-62638864fd84",
   "metadata": {},
   "outputs": [
    {
     "data": {
      "text/plain": [
       "'e'"
      ]
     },
     "execution_count": 25,
     "metadata": {},
     "output_type": "execute_result"
    }
   ],
   "source": [
    "s[1]"
   ]
  },
  {
   "cell_type": "code",
   "execution_count": null,
   "id": "f51a5204-b312-4e1b-b217-85f741c30a17",
   "metadata": {},
   "outputs": [],
   "source": []
  }
 ],
 "metadata": {
  "kernelspec": {
   "display_name": "Python 3 (ipykernel)",
   "language": "python",
   "name": "python3"
  },
  "language_info": {
   "codemirror_mode": {
    "name": "ipython",
    "version": 3
   },
   "file_extension": ".py",
   "mimetype": "text/x-python",
   "name": "python",
   "nbconvert_exporter": "python",
   "pygments_lexer": "ipython3",
   "version": "3.9.7"
  }
 },
 "nbformat": 4,
 "nbformat_minor": 5
}
