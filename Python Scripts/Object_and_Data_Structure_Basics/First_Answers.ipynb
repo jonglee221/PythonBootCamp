{
 "cells": [
  {
   "cell_type": "code",
   "execution_count": 1,
   "id": "df553caf-0bc9-49d6-a7ef-e885b3b58fb5",
   "metadata": {},
   "outputs": [],
   "source": [
    "#Write an equation that use multiplication, division, exponent, addition and subtraction to equal 100.25"
   ]
  },
  {
   "cell_type": "code",
   "execution_count": 2,
   "id": "dcc665b0-61e7-49d6-88da-d16918984910",
   "metadata": {},
   "outputs": [
    {
     "data": {
      "text/plain": [
       "100.25"
      ]
     },
     "execution_count": 2,
     "metadata": {},
     "output_type": "execute_result"
    }
   ],
   "source": [
    "(50*2/25)**2+86.25-2"
   ]
  },
  {
   "cell_type": "code",
   "execution_count": 3,
   "id": "c2974377-74bd-45c3-ac09-ff19449fce53",
   "metadata": {},
   "outputs": [],
   "source": [
    "#4*(6+5) = 44\n",
    "#4*6+5 = 29\n",
    "#4+6*5 = 34\n",
    "#3+1.5+4 = 8.5 which is a FLOATING POINT because it is decimals"
   ]
  },
  {
   "cell_type": "code",
   "execution_count": 4,
   "id": "3792c257-5a7f-4bfa-9f42-bce8ea4d0c33",
   "metadata": {},
   "outputs": [],
   "source": [
    "#to find square root = **.5\n",
    "#to find square = **2"
   ]
  },
  {
   "cell_type": "code",
   "execution_count": 5,
   "id": "fbe2ff9e-57d9-4c49-ba7b-6a6505a2a908",
   "metadata": {},
   "outputs": [],
   "source": [
    "#Strings: Given string 'hello', give an index command that returns 'e'."
   ]
  },
  {
   "cell_type": "code",
   "execution_count": 6,
   "id": "eed1b1de-6476-4587-9d5e-b294de228b2f",
   "metadata": {},
   "outputs": [
    {
     "data": {
      "text/plain": [
       "'e'"
      ]
     },
     "execution_count": 6,
     "metadata": {},
     "output_type": "execute_result"
    }
   ],
   "source": [
    "s = 'hello'\n",
    "s[1]"
   ]
  },
  {
   "cell_type": "code",
   "execution_count": 7,
   "id": "3b1ecd5a-f1b9-4763-bec2-a3961b00cea0",
   "metadata": {},
   "outputs": [
    {
     "data": {
      "text/plain": [
       "'olleh'"
      ]
     },
     "execution_count": 7,
     "metadata": {},
     "output_type": "execute_result"
    }
   ],
   "source": [
    "#reverse the string\n",
    "s[::-1]"
   ]
  },
  {
   "cell_type": "code",
   "execution_count": 8,
   "id": "978ba00c-e5f3-4335-9e30-48dd0e9cfc48",
   "metadata": {},
   "outputs": [],
   "source": [
    "#Given string hello, give 2 methods of producing the letter 'o' using indexing"
   ]
  },
  {
   "cell_type": "code",
   "execution_count": 9,
   "id": "064e34b5-5ca4-49af-af03-d37dcb55211a",
   "metadata": {},
   "outputs": [
    {
     "data": {
      "text/plain": [
       "'o'"
      ]
     },
     "execution_count": 9,
     "metadata": {},
     "output_type": "execute_result"
    }
   ],
   "source": [
    "s[-1]"
   ]
  },
  {
   "cell_type": "code",
   "execution_count": 10,
   "id": "d2438dad-ff35-40af-bbdb-2229511fe37e",
   "metadata": {},
   "outputs": [
    {
     "data": {
      "text/plain": [
       "'o'"
      ]
     },
     "execution_count": 10,
     "metadata": {},
     "output_type": "execute_result"
    }
   ],
   "source": [
    "s[4]"
   ]
  },
  {
   "cell_type": "code",
   "execution_count": 11,
   "id": "602801e8-bffc-42be-8688-37901f7c7043",
   "metadata": {},
   "outputs": [],
   "source": [
    "#Lists: Build this list [0,0,0] two separate ways"
   ]
  },
  {
   "cell_type": "code",
   "execution_count": 21,
   "id": "a50693af-2332-4a8b-ac88-5d7fe4477de1",
   "metadata": {},
   "outputs": [],
   "source": [
    "my_list=[0,0,0]"
   ]
  },
  {
   "cell_type": "code",
   "execution_count": 22,
   "id": "ba4336aa-b662-453a-ba7d-e495a396db10",
   "metadata": {},
   "outputs": [
    {
     "data": {
      "text/plain": [
       "list"
      ]
     },
     "execution_count": 22,
     "metadata": {},
     "output_type": "execute_result"
    }
   ],
   "source": [
    "type(my_list)"
   ]
  },
  {
   "cell_type": "code",
   "execution_count": 23,
   "id": "e6b3cbc4-5ef2-4f14-bbf7-91a44e7101bf",
   "metadata": {},
   "outputs": [
    {
     "data": {
      "text/plain": [
       "[0, 0, 0]"
      ]
     },
     "execution_count": 23,
     "metadata": {},
     "output_type": "execute_result"
    }
   ],
   "source": [
    "my_list"
   ]
  },
  {
   "cell_type": "code",
   "execution_count": 24,
   "id": "a6e351d5-5a82-4735-b965-9c1dcba2a77f",
   "metadata": {},
   "outputs": [
    {
     "data": {
      "text/plain": [
       "[0, 0, 0]"
      ]
     },
     "execution_count": 24,
     "metadata": {},
     "output_type": "execute_result"
    }
   ],
   "source": [
    "[0]*3"
   ]
  },
  {
   "cell_type": "code",
   "execution_count": 25,
   "id": "2375a770-e868-463b-9f00-681f326cac7d",
   "metadata": {},
   "outputs": [],
   "source": [
    "#Reassign 'hello' in this nested list to say 'goodbye' instead"
   ]
  },
  {
   "cell_type": "code",
   "execution_count": 34,
   "id": "365b814f-bd58-4b8e-bd7f-20458a30ac0b",
   "metadata": {},
   "outputs": [],
   "source": [
    "list3=[1,2,[3,4,'hello']]"
   ]
  },
  {
   "cell_type": "code",
   "execution_count": 35,
   "id": "a68f60e0-d3e2-431e-bdaf-85123e459acd",
   "metadata": {},
   "outputs": [
    {
     "data": {
      "text/plain": [
       "[1, 2, [3, 4, 'hello']]"
      ]
     },
     "execution_count": 35,
     "metadata": {},
     "output_type": "execute_result"
    }
   ],
   "source": [
    "list3"
   ]
  },
  {
   "cell_type": "code",
   "execution_count": 36,
   "id": "affa591b-a559-40c1-afca-257b3325402f",
   "metadata": {},
   "outputs": [
    {
     "data": {
      "text/plain": [
       "list"
      ]
     },
     "execution_count": 36,
     "metadata": {},
     "output_type": "execute_result"
    }
   ],
   "source": [
    "type(list3)"
   ]
  },
  {
   "cell_type": "code",
   "execution_count": 37,
   "id": "23a7000b-7478-4b91-992f-380622b513fa",
   "metadata": {},
   "outputs": [],
   "source": [
    "list3[2][2] = 'goodbye'"
   ]
  },
  {
   "cell_type": "code",
   "execution_count": 38,
   "id": "7b966a14-fd48-46a0-9b46-fab9a4ec9cef",
   "metadata": {},
   "outputs": [
    {
     "data": {
      "text/plain": [
       "[1, 2, [3, 4, 'goodbye']]"
      ]
     },
     "execution_count": 38,
     "metadata": {},
     "output_type": "execute_result"
    }
   ],
   "source": [
    "list3"
   ]
  },
  {
   "cell_type": "code",
   "execution_count": 45,
   "id": "9160d6f4-1bc1-4494-aa9a-edca0ac0c780",
   "metadata": {},
   "outputs": [],
   "source": [
    "#Sort list4"
   ]
  },
  {
   "cell_type": "code",
   "execution_count": 40,
   "id": "6cf4e11b-94eb-4f47-9898-064cefe7359a",
   "metadata": {},
   "outputs": [],
   "source": [
    "list4=[5,3,4,6,1]"
   ]
  },
  {
   "cell_type": "code",
   "execution_count": 41,
   "id": "754c66ad-96e1-414a-be78-f93ecc45c1a5",
   "metadata": {},
   "outputs": [
    {
     "data": {
      "text/plain": [
       "[5, 3, 4, 6, 1]"
      ]
     },
     "execution_count": 41,
     "metadata": {},
     "output_type": "execute_result"
    }
   ],
   "source": [
    "list4"
   ]
  },
  {
   "cell_type": "code",
   "execution_count": 43,
   "id": "b6146edb-d888-49cf-bad3-f3608d4b0f6e",
   "metadata": {},
   "outputs": [],
   "source": [
    "list4.sort()"
   ]
  },
  {
   "cell_type": "code",
   "execution_count": 44,
   "id": "67b22365-db94-45ff-a91f-5ca45be19f69",
   "metadata": {},
   "outputs": [
    {
     "data": {
      "text/plain": [
       "[1, 3, 4, 5, 6]"
      ]
     },
     "execution_count": 44,
     "metadata": {},
     "output_type": "execute_result"
    }
   ],
   "source": [
    "list4"
   ]
  },
  {
   "cell_type": "code",
   "execution_count": 46,
   "id": "cb6317dc-541a-4806-a619-d148a2ada1bb",
   "metadata": {},
   "outputs": [],
   "source": [
    "#Dictionaries: Using keys and indexing, grab 'hello' from the following dictionaries"
   ]
  },
  {
   "cell_type": "code",
   "execution_count": 48,
   "id": "a3cb8c3b-341f-47b8-af1f-dde381f79187",
   "metadata": {},
   "outputs": [
    {
     "data": {
      "text/plain": [
       "'hello'"
      ]
     },
     "execution_count": 48,
     "metadata": {},
     "output_type": "execute_result"
    }
   ],
   "source": [
    "d={'simple_key':'hello'}\n",
    "d['simple_key']"
   ]
  },
  {
   "cell_type": "code",
   "execution_count": 49,
   "id": "2945eba5-8d59-4609-91d2-652fd93b7309",
   "metadata": {},
   "outputs": [],
   "source": [
    "d={'k1':{'k2':'hello'}}"
   ]
  },
  {
   "cell_type": "code",
   "execution_count": 55,
   "id": "02454e69-5acf-4ae4-ac4c-80a036c17f2c",
   "metadata": {},
   "outputs": [
    {
     "data": {
      "text/plain": [
       "'hello'"
      ]
     },
     "execution_count": 55,
     "metadata": {},
     "output_type": "execute_result"
    }
   ],
   "source": [
    "d['k1']['k2']"
   ]
  },
  {
   "cell_type": "code",
   "execution_count": 58,
   "id": "6ce6fb62-0529-41d3-9921-04a7b89c2cb8",
   "metadata": {},
   "outputs": [],
   "source": [
    "d={'k1':[{'nest_key':['this is deep',['hello']]}]}"
   ]
  },
  {
   "cell_type": "code",
   "execution_count": 59,
   "id": "4960a8cd-da66-4b76-953e-c272171e56bc",
   "metadata": {},
   "outputs": [
    {
     "data": {
      "text/plain": [
       "{'k1': [{'nest_key': ['this is deep', ['hello']]}]}"
      ]
     },
     "execution_count": 59,
     "metadata": {},
     "output_type": "execute_result"
    }
   ],
   "source": [
    "d"
   ]
  },
  {
   "cell_type": "code",
   "execution_count": 83,
   "id": "edf6a8f9-7641-4170-a179-945e2bb63907",
   "metadata": {},
   "outputs": [
    {
     "data": {
      "text/plain": [
       "'hello'"
      ]
     },
     "execution_count": 83,
     "metadata": {},
     "output_type": "execute_result"
    }
   ],
   "source": [
    "d['k1'][0]['nest_key'][1][0]"
   ]
  },
  {
   "cell_type": "code",
   "execution_count": 84,
   "id": "5f77843c-da51-4dcf-9a45-244fe071f294",
   "metadata": {},
   "outputs": [],
   "source": [
    "# This will be hard and annoying!\n",
    "d = {'k1':[1,2,{'k2':['this is tricky',{'tough':[1,2,['hello']]}]}]}"
   ]
  },
  {
   "cell_type": "code",
   "execution_count": 95,
   "id": "067ff0ab-2b19-429d-9b00-dd24c6f9ca3c",
   "metadata": {},
   "outputs": [
    {
     "data": {
      "text/plain": [
       "'hello'"
      ]
     },
     "execution_count": 95,
     "metadata": {},
     "output_type": "execute_result"
    }
   ],
   "source": [
    "d['k1'][2]['k2'][1]['tough'][2][0]"
   ]
  },
  {
   "cell_type": "code",
   "execution_count": 96,
   "id": "5ce1c16e-5bbb-48ce-8c94-f041c00e4e8d",
   "metadata": {},
   "outputs": [],
   "source": [
    "#Tuples\n",
    "#Tuples are IMMUTABLE unlike lists"
   ]
  },
  {
   "cell_type": "code",
   "execution_count": 100,
   "id": "236f94eb-a0c3-47c0-86fe-d25482a61fb4",
   "metadata": {},
   "outputs": [],
   "source": [
    "my_tuple=(1,2,3)"
   ]
  },
  {
   "cell_type": "code",
   "execution_count": 101,
   "id": "f0eda216-df0d-43dd-aa0a-70329af0651e",
   "metadata": {},
   "outputs": [
    {
     "data": {
      "text/plain": [
       "tuple"
      ]
     },
     "execution_count": 101,
     "metadata": {},
     "output_type": "execute_result"
    }
   ],
   "source": [
    "type(my_tuple)"
   ]
  },
  {
   "cell_type": "code",
   "execution_count": 102,
   "id": "3e4fb14a-b188-4cc1-a64b-eb1c5d65f824",
   "metadata": {},
   "outputs": [],
   "source": [
    "#SETS:\n",
    "#They are unique because they are UNORDERED and UNIQUE, repeats will not be outputted."
   ]
  },
  {
   "cell_type": "code",
   "execution_count": 103,
   "id": "735ff6c8-5732-45c7-b39b-4c4407c2d4d4",
   "metadata": {},
   "outputs": [],
   "source": [
    "list5 = [1,2,2,33,4,4,11,22,3,3,2]"
   ]
  },
  {
   "cell_type": "code",
   "execution_count": 104,
   "id": "bf35ad80-0fcd-4a98-a2b6-eaec5d97b414",
   "metadata": {},
   "outputs": [
    {
     "data": {
      "text/plain": [
       "list"
      ]
     },
     "execution_count": 104,
     "metadata": {},
     "output_type": "execute_result"
    }
   ],
   "source": [
    "type(list5)"
   ]
  },
  {
   "cell_type": "code",
   "execution_count": 106,
   "id": "73b17650-6bc5-489e-bfcc-0f0358bdc293",
   "metadata": {},
   "outputs": [
    {
     "data": {
      "text/plain": [
       "{1, 2, 3, 4, 11, 22, 33}"
      ]
     },
     "execution_count": 106,
     "metadata": {},
     "output_type": "execute_result"
    }
   ],
   "source": [
    "set(list5)"
   ]
  },
  {
   "cell_type": "code",
   "execution_count": 107,
   "id": "4a1926df-9717-4fd9-99d2-bfc1a2c24c39",
   "metadata": {},
   "outputs": [],
   "source": [
    "#Booleans"
   ]
  },
  {
   "cell_type": "code",
   "execution_count": 108,
   "id": "8923e311-b452-48b0-bac4-f5b3bc489ef8",
   "metadata": {},
   "outputs": [
    {
     "data": {
      "text/plain": [
       "False"
      ]
     },
     "execution_count": 108,
     "metadata": {},
     "output_type": "execute_result"
    }
   ],
   "source": [
    "2>3"
   ]
  },
  {
   "cell_type": "code",
   "execution_count": 109,
   "id": "1c20acda-b21a-4e6a-9636-324704fc83ff",
   "metadata": {},
   "outputs": [
    {
     "data": {
      "text/plain": [
       "False"
      ]
     },
     "execution_count": 109,
     "metadata": {},
     "output_type": "execute_result"
    }
   ],
   "source": [
    "3<=2"
   ]
  },
  {
   "cell_type": "code",
   "execution_count": 110,
   "id": "3a4442a5-f28f-466d-bdfc-8737330bd364",
   "metadata": {},
   "outputs": [
    {
     "data": {
      "text/plain": [
       "False"
      ]
     },
     "execution_count": 110,
     "metadata": {},
     "output_type": "execute_result"
    }
   ],
   "source": [
    "3==2.0"
   ]
  },
  {
   "cell_type": "code",
   "execution_count": 111,
   "id": "6886c5cf-f256-4779-a741-82df7d5b1951",
   "metadata": {},
   "outputs": [
    {
     "data": {
      "text/plain": [
       "True"
      ]
     },
     "execution_count": 111,
     "metadata": {},
     "output_type": "execute_result"
    }
   ],
   "source": [
    "3.0==3"
   ]
  },
  {
   "cell_type": "code",
   "execution_count": 112,
   "id": "b959c96e-d13e-4f43-b97d-4806a7f09fb1",
   "metadata": {},
   "outputs": [
    {
     "data": {
      "text/plain": [
       "False"
      ]
     },
     "execution_count": 112,
     "metadata": {},
     "output_type": "execute_result"
    }
   ],
   "source": [
    "4**.5 != 2"
   ]
  },
  {
   "cell_type": "code",
   "execution_count": 113,
   "id": "5bd6a7e1-ac90-43d2-a3e7-16f53cedadb4",
   "metadata": {},
   "outputs": [],
   "source": [
    "# two nested lists\n",
    "l_one = [1,2,[3,4]]\n",
    "l_two = [1,2,{'k1':4}]"
   ]
  },
  {
   "cell_type": "code",
   "execution_count": 114,
   "id": "8ed24037-f288-4ef9-be4f-3e4befd7f6c4",
   "metadata": {},
   "outputs": [
    {
     "data": {
      "text/plain": [
       "False"
      ]
     },
     "execution_count": 114,
     "metadata": {},
     "output_type": "execute_result"
    }
   ],
   "source": [
    "# True or False?\n",
    "l_one[2][0] >= l_two[2]['k1']"
   ]
  },
  {
   "cell_type": "code",
   "execution_count": 117,
   "id": "d6eb3e56-bb39-4208-9334-2911c5482175",
   "metadata": {},
   "outputs": [
    {
     "data": {
      "text/plain": [
       "3"
      ]
     },
     "execution_count": 117,
     "metadata": {},
     "output_type": "execute_result"
    }
   ],
   "source": [
    "l_one[2][0]"
   ]
  },
  {
   "cell_type": "code",
   "execution_count": 118,
   "id": "d2d531da-664f-4fc1-b80e-3b386574536a",
   "metadata": {},
   "outputs": [
    {
     "data": {
      "text/plain": [
       "4"
      ]
     },
     "execution_count": 118,
     "metadata": {},
     "output_type": "execute_result"
    }
   ],
   "source": [
    "l_two[2]['k1']"
   ]
  },
  {
   "cell_type": "code",
   "execution_count": null,
   "id": "6b98c434-a7b5-4033-9a55-9d6364be3776",
   "metadata": {},
   "outputs": [],
   "source": []
  }
 ],
 "metadata": {
  "kernelspec": {
   "display_name": "Python 3 (ipykernel)",
   "language": "python",
   "name": "python3"
  },
  "language_info": {
   "codemirror_mode": {
    "name": "ipython",
    "version": 3
   },
   "file_extension": ".py",
   "mimetype": "text/x-python",
   "name": "python",
   "nbconvert_exporter": "python",
   "pygments_lexer": "ipython3",
   "version": "3.9.7"
  }
 },
 "nbformat": 4,
 "nbformat_minor": 5
}
